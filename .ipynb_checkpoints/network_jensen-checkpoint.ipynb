{
 "cells": [
  {
   "cell_type": "code",
   "execution_count": 46,
   "metadata": {
    "id": "to5dEM2j2kBn"
   },
   "outputs": [],
   "source": [
    "import tensorflow as tf\n",
    "from tensorflow.keras import datasets, layers, models\n",
    "import matplotlib.pyplot as plt\n",
    "import numpy as np"
   ]
  },
  {
   "cell_type": "markdown",
   "metadata": {
    "id": "wz1ZYrfcHsy8"
   },
   "source": [
    "Load the dataset"
   ]
  },
  {
   "cell_type": "code",
   "execution_count": 47,
   "metadata": {
    "id": "uj0ipHmB5eAK"
   },
   "outputs": [],
   "source": [
    "(X_train, y_train), (X_test,y_test) = datasets.cifar10.load_data()"
   ]
  },
  {
   "cell_type": "code",
   "execution_count": 48,
   "metadata": {
    "id": "XpgFwMwp5nYU"
   },
   "outputs": [],
   "source": [
    "y_train = y_train.reshape(-1,)\n",
    "y_test = y_test.reshape(-1,)"
   ]
  },
  {
   "cell_type": "code",
   "execution_count": 49,
   "metadata": {
    "id": "RV-FbrWL5qZZ"
   },
   "outputs": [],
   "source": [
    "classes = [\"airplane\",\"automobile\",\"bird\",\"cat\",\"deer\",\"dog\",\"frog\",\"horse\",\"ship\",\"truck\"]"
   ]
  },
  {
   "cell_type": "markdown",
   "metadata": {
    "id": "VrnZ7JVsIBJI"
   },
   "source": [
    "Normalise the training data"
   ]
  },
  {
   "cell_type": "code",
   "execution_count": 50,
   "metadata": {
    "id": "DtesZg5652Mn"
   },
   "outputs": [],
   "source": [
    "X_train = X_train / 255.0\n",
    "X_test = X_test / 255.0"
   ]
  },
  {
   "cell_type": "markdown",
   "metadata": {
    "id": "nkk4p4U5H0fN"
   },
   "source": [
    "Build the CNN"
   ]
  },
  {
   "cell_type": "code",
   "execution_count": 51,
   "metadata": {
    "id": "OOtOMsr156td"
   },
   "outputs": [],
   "source": [
    "cnn = models.Sequential([\n",
    "    layers.Conv2D(filters=32, kernel_size=(3, 3), activation='relu', input_shape=(32, 32, 3)),\n",
    "    layers.MaxPooling2D((2, 2)),\n",
    "    layers.Dropout(0.25),\n",
    "    \n",
    "    layers.Conv2D(filters=64, kernel_size=(3, 3), activation='relu'),\n",
    "    layers.MaxPooling2D((2, 2)),\n",
    "    layers.Dropout(0.25),\n",
    "    \n",
    "    layers.Flatten(),\n",
    "    layers.Dense(64, activation='relu'),\n",
    "    layers.Dropout(0.5),\n",
    "    layers.Dense(10, activation='softmax')\n",
    "])"
   ]
  },
  {
   "cell_type": "code",
   "execution_count": 52,
   "metadata": {
    "id": "_GX-vSm_6vtt"
   },
   "outputs": [],
   "source": [
    "cnn.compile(optimizer='adam',\n",
    "              loss='sparse_categorical_crossentropy',\n",
    "              metrics=['accuracy','mean_squared_error'])"
   ]
  },
  {
   "cell_type": "code",
   "execution_count": 53,
   "metadata": {
    "colab": {
     "base_uri": "https://localhost:8080/"
    },
    "id": "KS3LReTg6v79",
    "outputId": "90c7938b-626d-40c6-8f65-cbd6bba2e4cf"
   },
   "outputs": [
    {
     "name": "stdout",
     "output_type": "stream",
     "text": [
      "Epoch 1/50\n",
      "1563/1563 [==============================] - 72s 46ms/step - loss: 1.7758 - accuracy: 0.3447 - mean_squared_error: 27.6228\n",
      "Epoch 2/50\n",
      "1563/1563 [==============================] - 71s 46ms/step - loss: 1.5002 - accuracy: 0.4582 - mean_squared_error: 27.6315\n",
      "Epoch 3/50\n",
      "1563/1563 [==============================] - 71s 46ms/step - loss: 1.4048 - accuracy: 0.4928 - mean_squared_error: 27.6352\n",
      "Epoch 4/50\n",
      "1563/1563 [==============================] - 71s 46ms/step - loss: 1.3413 - accuracy: 0.5198 - mean_squared_error: 27.6379\n",
      "Epoch 5/50\n",
      "1563/1563 [==============================] - 71s 45ms/step - loss: 1.2987 - accuracy: 0.5360 - mean_squared_error: 27.6399\n",
      "Epoch 6/50\n",
      "1563/1563 [==============================] - 71s 45ms/step - loss: 1.2627 - accuracy: 0.5482 - mean_squared_error: 27.6415\n",
      "Epoch 7/50\n",
      "1563/1563 [==============================] - 71s 45ms/step - loss: 1.2320 - accuracy: 0.5600 - mean_squared_error: 27.6429\n",
      "Epoch 8/50\n",
      "1563/1563 [==============================] - 71s 45ms/step - loss: 1.2046 - accuracy: 0.5707 - mean_squared_error: 27.6440\n",
      "Epoch 9/50\n",
      "1563/1563 [==============================] - 71s 45ms/step - loss: 1.1856 - accuracy: 0.5787 - mean_squared_error: 27.6450\n",
      "Epoch 10/50\n",
      "1563/1563 [==============================] - 71s 46ms/step - loss: 1.1663 - accuracy: 0.5863 - mean_squared_error: 27.6459\n",
      "Epoch 11/50\n",
      "1563/1563 [==============================] - 72s 46ms/step - loss: 1.1463 - accuracy: 0.5944 - mean_squared_error: 27.6467\n",
      "Epoch 12/50\n",
      "1563/1563 [==============================] - 71s 46ms/step - loss: 1.1240 - accuracy: 0.6037 - mean_squared_error: 27.6478\n",
      "Epoch 13/50\n",
      "1563/1563 [==============================] - 72s 46ms/step - loss: 1.1086 - accuracy: 0.6074 - mean_squared_error: 27.6483\n",
      "Epoch 14/50\n",
      "1563/1563 [==============================] - 70s 45ms/step - loss: 1.0874 - accuracy: 0.6143 - mean_squared_error: 27.6493\n",
      "Epoch 15/50\n",
      "1563/1563 [==============================] - 69s 44ms/step - loss: 1.0844 - accuracy: 0.6181 - mean_squared_error: 27.6495\n",
      "Epoch 16/50\n",
      "1563/1563 [==============================] - 68s 44ms/step - loss: 1.0658 - accuracy: 0.6255 - mean_squared_error: 27.6504\n",
      "Epoch 17/50\n",
      "1563/1563 [==============================] - 68s 44ms/step - loss: 1.0598 - accuracy: 0.6256 - mean_squared_error: 27.6506\n",
      "Epoch 18/50\n",
      "1563/1563 [==============================] - 69s 44ms/step - loss: 1.0523 - accuracy: 0.6312 - mean_squared_error: 27.6510\n",
      "Epoch 19/50\n",
      "1563/1563 [==============================] - 72s 46ms/step - loss: 1.0443 - accuracy: 0.6313 - mean_squared_error: 27.6516\n",
      "Epoch 20/50\n",
      "1563/1563 [==============================] - 72s 46ms/step - loss: 1.0284 - accuracy: 0.6379 - mean_squared_error: 27.6521\n",
      "Epoch 21/50\n",
      "1563/1563 [==============================] - 72s 46ms/step - loss: 1.0178 - accuracy: 0.6433 - mean_squared_error: 27.6525\n",
      "Epoch 22/50\n",
      "1563/1563 [==============================] - 71s 46ms/step - loss: 1.0182 - accuracy: 0.6416 - mean_squared_error: 27.6526\n",
      "Epoch 23/50\n",
      "1563/1563 [==============================] - 71s 46ms/step - loss: 1.0077 - accuracy: 0.6453 - mean_squared_error: 27.6530\n",
      "Epoch 24/50\n",
      "1563/1563 [==============================] - 71s 46ms/step - loss: 0.9968 - accuracy: 0.6491 - mean_squared_error: 27.6536\n",
      "Epoch 25/50\n",
      "1563/1563 [==============================] - 71s 45ms/step - loss: 0.9928 - accuracy: 0.6491 - mean_squared_error: 27.6537\n",
      "Epoch 26/50\n",
      "1563/1563 [==============================] - 71s 46ms/step - loss: 0.9782 - accuracy: 0.6579 - mean_squared_error: 27.6543\n",
      "Epoch 27/50\n",
      "1563/1563 [==============================] - 71s 45ms/step - loss: 0.9756 - accuracy: 0.6560 - mean_squared_error: 27.6544\n",
      "Epoch 28/50\n",
      "1563/1563 [==============================] - 71s 45ms/step - loss: 0.9723 - accuracy: 0.6597 - mean_squared_error: 27.6546\n",
      "Epoch 29/50\n",
      "1563/1563 [==============================] - 71s 45ms/step - loss: 0.9536 - accuracy: 0.6639 - mean_squared_error: 27.6555\n",
      "Epoch 30/50\n",
      "1563/1563 [==============================] - 72s 46ms/step - loss: 0.9595 - accuracy: 0.6630 - mean_squared_error: 27.6551\n",
      "Epoch 31/50\n",
      "1563/1563 [==============================] - 71s 45ms/step - loss: 0.9482 - accuracy: 0.6665 - mean_squared_error: 27.6556\n",
      "Epoch 32/50\n",
      "1563/1563 [==============================] - 71s 46ms/step - loss: 0.9467 - accuracy: 0.6664 - mean_squared_error: 27.6558\n",
      "Epoch 33/50\n",
      "1563/1563 [==============================] - 72s 46ms/step - loss: 0.9424 - accuracy: 0.6674 - mean_squared_error: 27.6558\n",
      "Epoch 34/50\n",
      "1563/1563 [==============================] - 72s 46ms/step - loss: 0.9349 - accuracy: 0.6720 - mean_squared_error: 27.6563\n",
      "Epoch 35/50\n",
      "1563/1563 [==============================] - 72s 46ms/step - loss: 0.9272 - accuracy: 0.6756 - mean_squared_error: 27.6564\n",
      "Epoch 36/50\n",
      "1563/1563 [==============================] - 72s 46ms/step - loss: 0.9284 - accuracy: 0.6723 - mean_squared_error: 27.6565\n",
      "Epoch 37/50\n",
      "1563/1563 [==============================] - 71s 45ms/step - loss: 0.9209 - accuracy: 0.6736 - mean_squared_error: 27.6566\n",
      "Epoch 38/50\n",
      "1563/1563 [==============================] - 71s 46ms/step - loss: 0.9189 - accuracy: 0.6783 - mean_squared_error: 27.6570\n",
      "Epoch 39/50\n",
      "1563/1563 [==============================] - 71s 45ms/step - loss: 0.9155 - accuracy: 0.6765 - mean_squared_error: 27.6570\n",
      "Epoch 40/50\n",
      "1563/1563 [==============================] - 71s 45ms/step - loss: 0.9135 - accuracy: 0.6791 - mean_squared_error: 27.6573\n",
      "Epoch 41/50\n",
      "1563/1563 [==============================] - 71s 45ms/step - loss: 0.9099 - accuracy: 0.6810 - mean_squared_error: 27.6575\n",
      "Epoch 42/50\n",
      "1563/1563 [==============================] - 71s 45ms/step - loss: 0.9076 - accuracy: 0.6815 - mean_squared_error: 27.6575\n",
      "Epoch 43/50\n",
      "1563/1563 [==============================] - 71s 46ms/step - loss: 0.8982 - accuracy: 0.6831 - mean_squared_error: 27.6578\n",
      "Epoch 44/50\n",
      "1563/1563 [==============================] - 71s 45ms/step - loss: 0.8965 - accuracy: 0.6826 - mean_squared_error: 27.6580\n",
      "Epoch 45/50\n",
      "1563/1563 [==============================] - 71s 46ms/step - loss: 0.8931 - accuracy: 0.6855 - mean_squared_error: 27.6581\n",
      "Epoch 46/50\n",
      "1563/1563 [==============================] - 71s 45ms/step - loss: 0.8861 - accuracy: 0.6867 - mean_squared_error: 27.6585\n",
      "Epoch 47/50\n",
      "1563/1563 [==============================] - 71s 46ms/step - loss: 0.8914 - accuracy: 0.6844 - mean_squared_error: 27.6582\n",
      "Epoch 48/50\n",
      "1563/1563 [==============================] - 70s 45ms/step - loss: 0.8855 - accuracy: 0.6871 - mean_squared_error: 27.6585\n",
      "Epoch 49/50\n",
      "1563/1563 [==============================] - 71s 45ms/step - loss: 0.8880 - accuracy: 0.6862 - mean_squared_error: 27.6584\n",
      "Epoch 50/50\n",
      "1563/1563 [==============================] - 70s 45ms/step - loss: 0.8841 - accuracy: 0.6886 - mean_squared_error: 27.6585\n"
     ]
    },
    {
     "data": {
      "text/plain": [
       "<keras.callbacks.History at 0x7fd4d41c4ed0>"
      ]
     },
     "execution_count": 53,
     "metadata": {},
     "output_type": "execute_result"
    }
   ],
   "source": [
    "cnn.fit(X_train, y_train, epochs=50)"
   ]
  },
  {
   "cell_type": "code",
   "execution_count": 54,
   "metadata": {
    "colab": {
     "base_uri": "https://localhost:8080/"
    },
    "id": "2JBKL0Jb61EC",
    "outputId": "c75041bf-8a31-4b43-a05a-2726069a1d72"
   },
   "outputs": [
    {
     "name": "stdout",
     "output_type": "stream",
     "text": [
      "313/313 [==============================] - 4s 13ms/step - loss: 0.7904 - accuracy: 0.7311 - mean_squared_error: 27.6605\n"
     ]
    },
    {
     "data": {
      "text/plain": [
       "[0.7904013395309448, 0.7311000227928162, 27.66048812866211]"
      ]
     },
     "execution_count": 54,
     "metadata": {},
     "output_type": "execute_result"
    }
   ],
   "source": [
    "cnn.evaluate(X_test,y_test)"
   ]
  },
  {
   "cell_type": "code",
   "execution_count": 55,
   "metadata": {
    "id": "Z-MT79yP62p4"
   },
   "outputs": [],
   "source": [
    "y_pred = cnn.predict(X_test)"
   ]
  },
  {
   "cell_type": "code",
   "execution_count": 56,
   "metadata": {
    "id": "RN7b_yKS64R4"
   },
   "outputs": [],
   "source": [
    "y_classes = [np.argmax(element) for element in y_pred]"
   ]
  },
  {
   "cell_type": "code",
   "execution_count": 57,
   "metadata": {
    "id": "eUdbqQ2DH4D8"
   },
   "outputs": [],
   "source": [
    "def plot_sample(X, y, index):\n",
    "    plt.figure(figsize = (15,2))\n",
    "    plt.imshow(X[index])\n",
    "    plt.xlabel(classes[y[index]])"
   ]
  },
  {
   "cell_type": "code",
   "execution_count": 58,
   "metadata": {
    "colab": {
     "base_uri": "https://localhost:8080/",
     "height": 173
    },
    "id": "5A4h3b9j67Dy",
    "outputId": "0991c45b-b0e6-421d-e23e-44ec936ce0a7"
   },
   "outputs": [
    {
     "data": {
      "image/png": "[encoded data removed]",
      "text/plain": [
       "<Figure size 1080x144 with 1 Axes>"
      ]
     },
     "metadata": {
      "needs_background": "light"
     },
     "output_type": "display_data"
    }
   ],
   "source": [
    "plot_sample(X_test, y_test,3)"
   ]
  },
  {
   "cell_type": "code",
   "execution_count": 59,
   "metadata": {
    "colab": {
     "base_uri": "https://localhost:8080/",
     "height": 35
    },
    "id": "dOznQpOx68L5",
    "outputId": "3fe4d0f8-d150-4ef5-9bcb-93297ee96857"
   },
   "outputs": [
    {
     "data": {
      "application/vnd.google.colaboratory.intrinsic+json": {
       "type": "string"
      },
      "text/plain": [
       "'ship'"
      ]
     },
     "execution_count": 59,
     "metadata": {},
     "output_type": "execute_result"
    }
   ],
   "source": [
    "classes[y_classes[3]]"
   ]
  }
 ],
 "metadata": {
  "colab": {
   "collapsed_sections": [],
   "name": "network_jensen.ipynb",
   "provenance": []
  },
  "kernelspec": {
   "display_name": "Python 3 (ipykernel)",
   "language": "python",
   "name": "python3"
  },
  "language_info": {
   "codemirror_mode": {
    "name": "ipython",
    "version": 3
   },
   "file_extension": ".py",
   "mimetype": "text/x-python",
   "name": "python",
   "nbconvert_exporter": "python",
   "pygments_lexer": "ipython3",
   "version": "3.9.12"
  }
 },
 "nbformat": 4,
 "nbformat_minor": 1
}
